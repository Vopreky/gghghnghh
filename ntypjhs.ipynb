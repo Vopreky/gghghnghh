{
 "cells": [
  {
   "cell_type": "code",
   "execution_count": 85,
   "id": "ce042505",
   "metadata": {},
   "outputs": [],
   "source": [
    "import numpy as np\n",
    "\n",
    "def rsvd(A, r, p = 8):\n",
    "    M, N = A.shape\n",
    "    if M > N:\n",
    "        raise ValueError('Input matrix should not be \"tall\"')\n",
    "    RM = np.random.normal(size = (N, r + p))\n",
    "    B = A @ RM\n",
    "    Q, R = np.linalg.qr(B)\n",
    "    U0, E0, V0 = np.linalg.svd(Q.T @ A);\n",
    "    UR = Q @ U0\n",
    "    ER = E0\n",
    "    VR = V0\n",
    "    return (UR, ER, VR)\n",
    "    \n",
    "\n",
    "def A(i, j):\n",
    "    return i * j\n",
    "M = 1024\n",
    "N = 2048\n",
    "Ma = np.fromfunction(A, (M, N))\n",
    "U, E, V = rsvd(Ma, 3)"
   ]
  },
  {
   "cell_type": "code",
   "execution_count": 76,
   "id": "34043708",
   "metadata": {},
   "outputs": [
    {
     "name": "stdout",
     "output_type": "stream",
     "text": [
      "[[0.         0.         0.        ]\n",
      " [3.58333333 0.         4.75      ]\n",
      " [6.33333333 0.         7.        ]]\n",
      "[[ 0.          0.          0.        ]\n",
      " [-0.71428571  0.          0.        ]\n",
      " [ 0.          0.          0.        ]]\n",
      "[[0. 0. 0.]\n",
      " [0. 0. 0.]\n",
      " [0. 0. 0.]]\n"
     ]
    }
   ],
   "source": [
    "import numpy as np\n",
    "\n",
    "def cross(A, eps = 0.1):\n",
    "    m, n = A.shape\n",
    "    I = np.arange(m)\n",
    "    J = np.arange(n)\n",
    "    r = 0\n",
    "    i,j = np.unravel_index(np.argmax(np.abs(A), axis=None), A.shape)\n",
    "    U = np.copy(A[i, :]).reshape(1, n)\n",
    "    V = np.copy(A[:, j] / A[i, j]).reshape(m, 1)\n",
    "    I[i] = -1\n",
    "    J[j] = -1\n",
    "    B = (A - (V @ U))\n",
    "    while True:\n",
    "        r = r + 1\n",
    "        i = 0\n",
    "        j = 0\n",
    "        while I[i] == -1:\n",
    "            i = i + 1\n",
    "            if (i == m):\n",
    "                return V, U\n",
    "        while J[j] == -1:\n",
    "            j = j + 1\n",
    "            if (j == n):\n",
    "                return V, U\n",
    "        for jj in range(n):\n",
    "            if (abs(B[i,jj]) > abs(B[i,j])) and (J[jj] != -1):\n",
    "                j = jj\n",
    "        for ii in range(n):\n",
    "            if (abs(B[ii,j]) > abs(B[i,j])) and (I[ii] != -1):\n",
    "                i = ii\n",
    "        \n",
    "        if abs(B[i, j] * (((m - r)*(n - r)) ** 0.5)) <= eps * np.linalg.norm(V @ U, ord = 'fro'):\n",
    "            return V, U\n",
    "        U = np.concatenate((U, B[i, :].reshape(1, n)), axis = 0)\n",
    "        V = np.concatenate((V, (B[:, j] / B[i,j]).reshape(m, 1)), axis = 1)\n",
    "        I[i] = -1\n",
    "        J[j] = -1\n",
    "        B = (A - (V @ U))\n",
    "        \n",
    "        \n",
    "    \n",
    "A = np.array([[1, 12, 3], [4, 5, 6], [7, 8, 9]], dtype = np.float64)\n",
    "\n",
    "U, V = cross(A, 1)\n",
    "print(A - U @ V)\n",
    "U, V = cross(A, 0.1)\n",
    "print(A - U @ V)\n",
    "U, V = cross(A, 0.01)\n",
    "print(A - U @ V)"
   ]
  },
  {
   "cell_type": "code",
   "execution_count": 8,
   "id": "bb9952fb",
   "metadata": {},
   "outputs": [
    {
     "name": "stdout",
     "output_type": "stream",
     "text": [
      "(2, 2, 2) (2, 4) (2, 4) (2, 4)\n"
     ]
    },
    {
     "data": {
      "text/plain": [
       "(array([[[-1.42253953e+01,  1.60125603e-02],\n",
       "         [ 8.28025332e-03,  2.38589095e-01]],\n",
       " \n",
       "        [[ 4.61793060e-03,  5.43770692e-01],\n",
       "         [ 1.11585148e+00,  2.00114739e-01]]]),\n",
       " array([[-0.37616823, -0.92655138],\n",
       "        [-0.92655138,  0.37616823]]),\n",
       " array([[-0.56672424, -0.82390754],\n",
       "        [-0.82390754,  0.56672424]]),\n",
       " array([[-0.64142303, -0.7671874 ],\n",
       "        [-0.7671874 ,  0.64142303]]))"
      ]
     },
     "execution_count": 8,
     "metadata": {},
     "output_type": "execute_result"
    }
   ],
   "source": [
    "import numpy as np\n",
    "\n",
    "def hosvd(A):\n",
    "    N = A.shape[0]\n",
    "    A1 = np.reshape(A, (N, N * N))\n",
    "    A2 = np.transpose(A, [1,0,2]).reshape((N, N*N))\n",
    "    A3 = np.transpose(A, [2,0,1]).reshape((N, N*N))\n",
    "    print(A.shape, A1.shape, A2.shape, A3.shape)\n",
    "    U1, E1, V1 = np.linalg.svd(A1)\n",
    "    U2, E2, V2 = np.linalg.svd(A2)\n",
    "    U3, E3, V3 = np.linalg.svd(A3)\n",
    "    G = np.einsum('ai,bj,ck,ijk', U1.T, U2.T, U3.T, A)\n",
    "    return G, U1, U2, U3\n",
    "    \n",
    "A = np.array([[[1, 2], [3, 4]], [[5, 6], [7, 8]]])\n",
    "G, U1, U2, U3 = hosvd(A)"
   ]
  },
  {
   "cell_type": "code",
   "execution_count": 21,
   "id": "a27a8bbe",
   "metadata": {},
   "outputs": [
    {
     "data": {
      "text/plain": [
       "(array([[[-1.42253953e+01,  8.28025332e-03],\n",
       "         [ 4.61793060e-03,  1.11585148e+00]],\n",
       " \n",
       "        [[ 1.60125603e-02,  2.38589095e-01],\n",
       "         [ 5.43770692e-01,  2.00114739e-01]]]),\n",
       " array([[-0.37616823, -0.92655138],\n",
       "        [-0.92655138,  0.37616823]]),\n",
       " array([[-0.56672424, -0.82390754],\n",
       "        [-0.82390754,  0.56672424]]),\n",
       " array([[-0.64142303, -0.7671874 ],\n",
       "        [-0.7671874 ,  0.64142303]]))"
      ]
     },
     "execution_count": 21,
     "metadata": {},
     "output_type": "execute_result"
    }
   ],
   "source": [
    "import numpy as np\n",
    "\n",
    "def st_hosvd(A):\n",
    "    N = A.shape[0]\n",
    "    A1 = np.reshape(A, (N, N * N))\n",
    "    U1, E, V = np.linalg.svd(A1, full_matrices=False)\n",
    "    G = np.diag(E) @ V\n",
    "    G = np.transpose(G.reshape([N, N, N]), [1, 0, 2]).reshape([N, N*N])\n",
    "    U2, E, V = np.linalg.svd(G, full_matrices=False)\n",
    "    G = np.diag(E) @ V\n",
    "    G = np.transpose(G.reshape([N, N, N]), [2, 1, 0]).reshape([N, N*N])\n",
    "    U3, E, V = np.linalg.svd(G, full_matrices=False)\n",
    "    G = (np.diag(E) @ V).reshape([N, N, N])\n",
    "    return G, U1, U2, U3\n",
    "    \n",
    "A = np.array([[[1, 2], [3, 4]], [[5, 6], [7, 8]]])\n",
    "st_hosvd(A)"
   ]
  },
  {
   "cell_type": "code",
   "execution_count": 13,
   "id": "59e51a1a",
   "metadata": {},
   "outputs": [
    {
     "name": "stdout",
     "output_type": "stream",
     "text": [
      "(array([[-0.37616823, -0.92655138],\n",
      "       [-0.92655138,  0.37616823]]), array([[[-0.5645105 ,  0.32808041],\n",
      "        [-0.82171313, -0.19466474]],\n",
      "\n",
      "       [[ 0.06461345,  0.754663  ],\n",
      "        [-0.04405152,  0.53380955]]]), array([[ 9.15252644, 10.94707021],\n",
      "       [ 0.48089472, -0.40206206]]))\n",
      "[array([[-0.37616823, -0.92655138],\n",
      "       [-0.92655138,  0.37616823]]), array([[[-0.5645105 ,  0.32808041],\n",
      "        [-0.82171313, -0.19466474]],\n",
      "\n",
      "       [[ 0.06461345,  0.754663  ],\n",
      "        [-0.04405152,  0.53380955]]]), array([[ 9.15252644, 10.94707021],\n",
      "       [ 0.48089472, -0.40206206]])]\n"
     ]
    }
   ],
   "source": [
    "import numpy as np\n",
    "\n",
    "def TTSVD(A, r):#это TTSVD\n",
    "    UR = []\n",
    "    N = A.shape\n",
    "    NP = 1;\n",
    "    for i in range(len(N)):\n",
    "        NP *= N[i]\n",
    "    NP = NP // N[0]\n",
    "    A1 = A. reshape (N[0], NP)\n",
    "    U, s, V = np. linalg .svd(A1 , full_matrices = False )\n",
    "    UR.append(U[: ,:r[0]])\n",
    "    G = np.diag(s[:r[0]]) @ V[:r[0], :]\n",
    "    \n",
    "    for i in range(len(N) - 2):\n",
    "        NP = NP // N[i + 1]\n",
    "        G = G.reshape (r[i] * N[i + 1] , NP)\n",
    "        U, s, V = np. linalg .svd(G , full_matrices = False )\n",
    "        UR.append(U[: ,:r[i + 1]].reshape(r[i], N[i + 1], r[i + 1]))\n",
    "        G = np.diag(s[:r[i + 1]]) @ V[:r[i + 1], :]\n",
    "\n",
    "    UR.append(G)\n",
    "    return UR\n",
    "\n",
    "def TTSVD_3d (A, r1 , r2):#это из учебника для проверки TTSVD только на 3д\n",
    "    N1 ,N2 ,N3 = A. shape\n",
    "    A1=A. reshape (N1 , N2 *N3)\n",
    "    U, s, V = np. linalg .svd(A1 , full_matrices = False )\n",
    "    G1 = U[: ,: r1] #N1 x r1\n",
    "    V1 = np.diag(s[: r1 ]) @ V[:r1 , :] # r1 x N2 ∗ N3\n",
    "    V1 = V1. reshape (r1 * N2 , N3)\n",
    "    U, s, V = np. linalg .svd(V1 , full_matrices = False )\n",
    "    G2 = U[: ,: r2] # r1 ∗ N2 x r2\n",
    "    G2 = G2. reshape (r1 , N2 , r2)# r1 x N2 x r2\n",
    "    G3 = np.diag(s[: r2 ]) @V [:r2 ,:] # r2 x N3\n",
    "    return G1 , G2 , G3\n",
    "\n",
    "A = np.array([[[1, 2], [3, 4]], [[5, 6], [7, 8]]])\n",
    "\n",
    "print(TTSVD_3d(A, 2, 2))\n",
    "print(TTSVD(A, (2, 2)))"
   ]
  }
 ],
 "metadata": {
  "kernelspec": {
   "display_name": "Python 3 (ipykernel)",
   "language": "python",
   "name": "python3"
  },
  "language_info": {
   "codemirror_mode": {
    "name": "ipython",
    "version": 3
   },
   "file_extension": ".py",
   "mimetype": "text/x-python",
   "name": "python",
   "nbconvert_exporter": "python",
   "pygments_lexer": "ipython3",
   "version": "3.8.10"
  }
 },
 "nbformat": 4,
 "nbformat_minor": 5
}
